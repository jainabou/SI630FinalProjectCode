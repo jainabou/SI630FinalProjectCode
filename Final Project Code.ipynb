{
 "cells": [
  {
   "cell_type": "markdown",
   "metadata": {},
   "source": [
    "# SI 630 Project Code"
   ]
  },
  {
   "cell_type": "code",
   "execution_count": 1,
   "metadata": {},
   "outputs": [],
   "source": [
    "from matplotlib import pyplot as plt\n",
    "from scipy.cluster.hierarchy import dendrogram\n",
    "\n",
    "#Sklearn is for machine learning \n",
    "from sklearn.datasets import load_iris\n",
    "from sklearn.cluster import AgglomerativeClustering\n",
    "import scipy.cluster.hierarchy as shc\n",
    "\n",
    "import pandas as pd\n",
    "import seaborn as sns\n",
    "\n",
    "import spacy\n",
    "\n",
    "# loading up the language model: English\n",
    "# Windows users will need to follow the instructions in Slack to modify the next line\n",
    "nlp = spacy.load(r'C:\\Users\\jaina\\Anaconda3\\Lib\\site-packages\\en_core_web_sm\\en_core_web_sm-2.0.0')\n",
    "from spacy.lang.en.stop_words import STOP_WORDS\n"
   ]
  },
  {
   "cell_type": "code",
   "execution_count": 3,
   "metadata": {},
   "outputs": [
    {
     "data": {
      "text/html": [
       "<div>\n",
       "<style scoped>\n",
       "    .dataframe tbody tr th:only-of-type {\n",
       "        vertical-align: middle;\n",
       "    }\n",
       "\n",
       "    .dataframe tbody tr th {\n",
       "        vertical-align: top;\n",
       "    }\n",
       "\n",
       "    .dataframe thead th {\n",
       "        text-align: right;\n",
       "    }\n",
       "</style>\n",
       "<table border=\"1\" class=\"dataframe\">\n",
       "  <thead>\n",
       "    <tr style=\"text-align: right;\">\n",
       "      <th></th>\n",
       "      <th>textID</th>\n",
       "      <th>country|genre</th>\n",
       "      <th># words</th>\n",
       "      <th>web site</th>\n",
       "      <th>web page</th>\n",
       "      <th>title</th>\n",
       "    </tr>\n",
       "  </thead>\n",
       "  <tbody>\n",
       "    <tr>\n",
       "      <th>0</th>\n",
       "      <td>3283052</td>\n",
       "      <td>AU B</td>\n",
       "      <td>483</td>\n",
       "      <td>adoreanimals.com</td>\n",
       "      <td>http://adoreanimals.com/articles/new-technique...</td>\n",
       "      <td>New techniques for managing wild elephants | A...</td>\n",
       "    </tr>\n",
       "    <tr>\n",
       "      <th>1</th>\n",
       "      <td>3284350</td>\n",
       "      <td>AU B</td>\n",
       "      <td>1455</td>\n",
       "      <td>asopa.typepad.com</td>\n",
       "      <td>http://asopa.typepad.com/asopa_people/2012/07/...</td>\n",
       "      <td>Development - or what do our people really wan...</td>\n",
       "    </tr>\n",
       "    <tr>\n",
       "      <th>2</th>\n",
       "      <td>3284352</td>\n",
       "      <td>AU B</td>\n",
       "      <td>202</td>\n",
       "      <td>asopa.typepad.com</td>\n",
       "      <td>http://asopa.typepad.com/asopa_people/2012/07/...</td>\n",
       "      <td>Indonesia-PNG draft agreement to bring back Dj...</td>\n",
       "    </tr>\n",
       "    <tr>\n",
       "      <th>3</th>\n",
       "      <td>3284452</td>\n",
       "      <td>AU B</td>\n",
       "      <td>635</td>\n",
       "      <td>asopa.typepad.com</td>\n",
       "      <td>http://asopa.typepad.com/asopa_people/2012/11/...</td>\n",
       "      <td>Privatising state enterprises: benefits &amp;amp; ...</td>\n",
       "    </tr>\n",
       "    <tr>\n",
       "      <th>4</th>\n",
       "      <td>3285550</td>\n",
       "      <td>AU B</td>\n",
       "      <td>611</td>\n",
       "      <td>bellyrumbles.com</td>\n",
       "      <td>http://bellyrumbles.com/2012/10/are-you-austra...</td>\n",
       "      <td>Are you Australia's best home chef? | Belly Ru...</td>\n",
       "    </tr>\n",
       "  </tbody>\n",
       "</table>\n",
       "</div>"
      ],
      "text/plain": [
       "    textID country|genre  # words           web site  \\\n",
       "0  3283052         AU B       483   adoreanimals.com   \n",
       "1  3284350         AU B      1455  asopa.typepad.com   \n",
       "2  3284352         AU B       202  asopa.typepad.com   \n",
       "3  3284452         AU B       635  asopa.typepad.com   \n",
       "4  3285550         AU B       611   bellyrumbles.com   \n",
       "\n",
       "                                            web page  \\\n",
       "0  http://adoreanimals.com/articles/new-technique...   \n",
       "1  http://asopa.typepad.com/asopa_people/2012/07/...   \n",
       "2  http://asopa.typepad.com/asopa_people/2012/07/...   \n",
       "3  http://asopa.typepad.com/asopa_people/2012/11/...   \n",
       "4  http://bellyrumbles.com/2012/10/are-you-austra...   \n",
       "\n",
       "                                               title  \n",
       "0  New techniques for managing wild elephants | A...  \n",
       "1  Development - or what do our people really wan...  \n",
       "2  Indonesia-PNG draft agreement to bring back Dj...  \n",
       "3  Privatising state enterprises: benefits &amp; ...  \n",
       "4  Are you Australia's best home chef? | Belly Ru...  "
      ]
     },
     "execution_count": 3,
     "metadata": {},
     "output_type": "execute_result"
    }
   ],
   "source": [
    "#import the files\n",
    "df=pd.read_csv('data/source.csv', encoding = \"ISO-8859-1\")\n",
    "\n",
    "df.head()"
   ]
  },
  {
   "cell_type": "code",
   "execution_count": 4,
   "metadata": {},
   "outputs": [
    {
     "data": {
      "text/html": [
       "<div>\n",
       "<style scoped>\n",
       "    .dataframe tbody tr th:only-of-type {\n",
       "        vertical-align: middle;\n",
       "    }\n",
       "\n",
       "    .dataframe tbody tr th {\n",
       "        vertical-align: top;\n",
       "    }\n",
       "\n",
       "    .dataframe thead th {\n",
       "        text-align: right;\n",
       "    }\n",
       "</style>\n",
       "<table border=\"1\" class=\"dataframe\">\n",
       "  <thead>\n",
       "    <tr style=\"text-align: right;\">\n",
       "      <th></th>\n",
       "      <th>textID</th>\n",
       "      <th># words</th>\n",
       "      <th>web site</th>\n",
       "      <th>web page</th>\n",
       "      <th>title</th>\n",
       "      <th>country</th>\n",
       "      <th>genre</th>\n",
       "    </tr>\n",
       "  </thead>\n",
       "  <tbody>\n",
       "    <tr>\n",
       "      <th>0</th>\n",
       "      <td>3283052</td>\n",
       "      <td>483</td>\n",
       "      <td>adoreanimals.com</td>\n",
       "      <td>http://adoreanimals.com/articles/new-technique...</td>\n",
       "      <td>New techniques for managing wild elephants | A...</td>\n",
       "      <td>AU</td>\n",
       "      <td>B</td>\n",
       "    </tr>\n",
       "    <tr>\n",
       "      <th>1</th>\n",
       "      <td>3284350</td>\n",
       "      <td>1455</td>\n",
       "      <td>asopa.typepad.com</td>\n",
       "      <td>http://asopa.typepad.com/asopa_people/2012/07/...</td>\n",
       "      <td>Development - or what do our people really wan...</td>\n",
       "      <td>AU</td>\n",
       "      <td>B</td>\n",
       "    </tr>\n",
       "    <tr>\n",
       "      <th>2</th>\n",
       "      <td>3284352</td>\n",
       "      <td>202</td>\n",
       "      <td>asopa.typepad.com</td>\n",
       "      <td>http://asopa.typepad.com/asopa_people/2012/07/...</td>\n",
       "      <td>Indonesia-PNG draft agreement to bring back Dj...</td>\n",
       "      <td>AU</td>\n",
       "      <td>B</td>\n",
       "    </tr>\n",
       "    <tr>\n",
       "      <th>3</th>\n",
       "      <td>3284452</td>\n",
       "      <td>635</td>\n",
       "      <td>asopa.typepad.com</td>\n",
       "      <td>http://asopa.typepad.com/asopa_people/2012/11/...</td>\n",
       "      <td>Privatising state enterprises: benefits &amp;amp; ...</td>\n",
       "      <td>AU</td>\n",
       "      <td>B</td>\n",
       "    </tr>\n",
       "    <tr>\n",
       "      <th>4</th>\n",
       "      <td>3285550</td>\n",
       "      <td>611</td>\n",
       "      <td>bellyrumbles.com</td>\n",
       "      <td>http://bellyrumbles.com/2012/10/are-you-austra...</td>\n",
       "      <td>Are you Australia's best home chef? | Belly Ru...</td>\n",
       "      <td>AU</td>\n",
       "      <td>B</td>\n",
       "    </tr>\n",
       "  </tbody>\n",
       "</table>\n",
       "</div>"
      ],
      "text/plain": [
       "    textID  # words           web site  \\\n",
       "0  3283052      483   adoreanimals.com   \n",
       "1  3284350     1455  asopa.typepad.com   \n",
       "2  3284352      202  asopa.typepad.com   \n",
       "3  3284452      635  asopa.typepad.com   \n",
       "4  3285550      611   bellyrumbles.com   \n",
       "\n",
       "                                            web page  \\\n",
       "0  http://adoreanimals.com/articles/new-technique...   \n",
       "1  http://asopa.typepad.com/asopa_people/2012/07/...   \n",
       "2  http://asopa.typepad.com/asopa_people/2012/07/...   \n",
       "3  http://asopa.typepad.com/asopa_people/2012/11/...   \n",
       "4  http://bellyrumbles.com/2012/10/are-you-austra...   \n",
       "\n",
       "                                               title country genre  \n",
       "0  New techniques for managing wild elephants | A...      AU    B   \n",
       "1  Development - or what do our people really wan...      AU    B   \n",
       "2  Indonesia-PNG draft agreement to bring back Dj...      AU    B   \n",
       "3  Privatising state enterprises: benefits &amp; ...      AU    B   \n",
       "4  Are you Australia's best home chef? | Belly Ru...      AU    B   "
      ]
     },
     "execution_count": 4,
     "metadata": {},
     "output_type": "execute_result"
    }
   ],
   "source": [
    "#split country from genre column\n",
    "\n",
    "new=df['country|genre'].str.split(' ', n=1, expand=True)\n",
    "\n",
    "df['country']=new[0]\n",
    "df['genre']=new[1]\n",
    "\n",
    "df.drop(columns=['country|genre'], inplace=True)\n",
    "\n",
    "df.head()"
   ]
  },
  {
   "cell_type": "markdown",
   "metadata": {},
   "source": [
    "## Data Exploration"
   ]
  },
  {
   "cell_type": "code",
   "execution_count": 51,
   "metadata": {},
   "outputs": [
    {
     "data": {
      "text/plain": [
       "1650"
      ]
     },
     "execution_count": 51,
     "metadata": {},
     "output_type": "execute_result"
    }
   ],
   "source": [
    "len(df)"
   ]
  },
  {
   "cell_type": "code",
   "execution_count": 2,
   "metadata": {},
   "outputs": [],
   "source": [
    "trans_dict={'AU':'Australia', 'BD':'Bangladesh', 'CA':'Canada', 'GH':'Ghana', 'GB':\"Great Britian\", 'HK':'Hong Kong', 'IN':'India', 'IE':'Ireland', 'JM':'Jamacia', 'KE':'Kenya', 'MY':'Malaysia', 'NZ':'New Zeland', 'NG':'Nigeria', 'PH':'Philippines', 'PK':'Pakistan', 'SG':'Singapore', 'LK':'Sri Lanka', 'ZA':'South Africa', 'TZ':'Tanzania', 'US':'United States'}"
   ]
  },
  {
   "cell_type": "code",
   "execution_count": 112,
   "metadata": {},
   "outputs": [],
   "source": [
    "country_names=trans_dict.values()"
   ]
  },
  {
   "cell_type": "code",
   "execution_count": 115,
   "metadata": {},
   "outputs": [],
   "source": [
    "country_names=[i for i in country_names]"
   ]
  },
  {
   "cell_type": "code",
   "execution_count": 117,
   "metadata": {},
   "outputs": [
    {
     "data": {
      "text/plain": [
       "['Australia', 'Bangladesh', 'Canada', 'Ghana', 'Great Britian']"
      ]
     },
     "execution_count": 117,
     "metadata": {},
     "output_type": "execute_result"
    }
   ],
   "source": [
    "country_names[0:5]"
   ]
  },
  {
   "cell_type": "code",
   "execution_count": 122,
   "metadata": {},
   "outputs": [],
   "source": [
    "country_name=[]"
   ]
  },
  {
   "cell_type": "code",
   "execution_count": 123,
   "metadata": {},
   "outputs": [],
   "source": [
    "code=[]\n",
    "for i in cnt_pro.index:\n",
    "    country=trans_dict[i]\n",
    "    country_name.append(country)\n",
    "    code.append(country)"
   ]
  },
  {
   "cell_type": "code",
   "execution_count": 124,
   "metadata": {},
   "outputs": [
    {
     "name": "stdout",
     "output_type": "stream",
     "text": [
      "['Great Britian', 'United States', 'Australia', 'Canada', 'Ireland']\n"
     ]
    }
   ],
   "source": [
    "print(country_name[0:5])"
   ]
  },
  {
   "cell_type": "code",
   "execution_count": 11,
   "metadata": {},
   "outputs": [
    {
     "data": {
      "image/png": "[encoded data removed]",
      "text/plain": [
       "<Figure size 864x288 with 1 Axes>"
      ]
     },
     "metadata": {
      "needs_background": "light"
     },
     "output_type": "display_data"
    }
   ],
   "source": [
    "cnt_pro = df['country'].value_counts()\n",
    "plt.figure(figsize=(12,4))\n",
    "svm=sns.barplot(code, cnt_pro.values, alpha=0.8)\n",
    "plt.ylabel('Number text files', fontsize=12)\n",
    "plt.xlabel('country', fontsize=12)\n",
    "plt.xticks(rotation=90)\n",
    "plt.title('Distribution of Data')\n",
    "plt.savefig('country.pdf',format='pdf')#saves the figure in the data folder\n",
    "\n",
    "figure = svm.get_figure()    \n",
    "figure.savefig('svm_conf.pdf', dpi=400)\n",
    "\n",
    "plt.show();\n",
    "# plt.savefig('country.pdf',format='pdf')#saves the figure in the data folder"
   ]
  },
  {
   "cell_type": "code",
   "execution_count": 53,
   "metadata": {},
   "outputs": [
    {
     "data": {
      "text/plain": [
       "2058127"
      ]
     },
     "execution_count": 53,
     "metadata": {},
     "output_type": "execute_result"
    }
   ],
   "source": [
    "df['# words'].sum()"
   ]
  },
  {
   "cell_type": "code",
   "execution_count": 11,
   "metadata": {},
   "outputs": [
    {
     "data": {
      "text/plain": [
       "1247.3496969696969"
      ]
     },
     "execution_count": 11,
     "metadata": {},
     "output_type": "execute_result"
    }
   ],
   "source": [
    "df['# words'].mean()"
   ]
  },
  {
   "cell_type": "markdown",
   "metadata": {},
   "source": [
    "## Doc2Vec Model"
   ]
  },
  {
   "cell_type": "code",
   "execution_count": 15,
   "metadata": {},
   "outputs": [
    {
     "name": "stderr",
     "output_type": "stream",
     "text": [
      "C:\\Users\\jaina\\Anaconda3\\lib\\site-packages\\gensim\\utils.py:1197: UserWarning: detected Windows; aliasing chunkize to chunkize_serial\n",
      "  warnings.warn(\"detected Windows; aliasing chunkize to chunkize_serial\")\n"
     ]
    }
   ],
   "source": [
    "import gensim\n",
    "import os\n",
    "import collections\n",
    "import smart_open\n",
    "import random"
   ]
  },
  {
   "cell_type": "code",
   "execution_count": 12,
   "metadata": {},
   "outputs": [],
   "source": [
    "#types of files countires\n",
    "countires=['au','bd','ca','gb','hk','ie','in','jm','ke','my','ng','nz','ph','pk','sg','tz','us','za']\n"
   ]
  },
  {
   "cell_type": "code",
   "execution_count": 25,
   "metadata": {},
   "outputs": [],
   "source": [
    "# clean_text"
   ]
  },
  {
   "cell_type": "code",
   "execution_count": 149,
   "metadata": {},
   "outputs": [],
   "source": [
    "#list for the actual country for the test corpus\n",
    "test_actual=[]\n",
    "train_actual=[]\n",
    "\n",
    "\n",
    "def read_corpus(country, tokens_only=False, both=False):\n",
    "    c_index=countires.index(country)\n",
    "#     print(c_index)\n",
    "    if tokens_only:\n",
    "#         fname='data/w_'+str(country)+'_b.txt'\n",
    "        fname='data/w_'+str(country)+'_b.txt'\n",
    "    if both:\n",
    "        fname='data/w_'+str(country)+'_b.txt'\n",
    "    else:\n",
    "#         fname='data/w_'+str(country)+'_g.txt'\n",
    "        fname='data/w_'+str(country)+'_b.txt'\n",
    "    with smart_open.smart_open(fname, encoding=\"utf-8\") as f:\n",
    "        for i, line in enumerate(f):\n",
    "            if tokens_only:\n",
    "                test_actual.append(c_index)\n",
    "                yield gensim.utils.simple_preprocess(line)\n",
    "            else:\n",
    "                # For training data, add tags\n",
    "                train_actual.append(c_index)\n",
    "                yield gensim.models.doc2vec.TaggedDocument(gensim.utils.simple_preprocess(line), tags=[c_index])"
   ]
  },
  {
   "cell_type": "code",
   "execution_count": 151,
   "metadata": {},
   "outputs": [],
   "source": [
    "train_list=[]\n",
    "test_list=[]\n",
    "total_list=[]\n",
    "\n",
    "for x in countires:\n",
    "    if x == 'gb' or x=='us':\n",
    "        train_corpus=list(read_corpus(x))\n",
    "        train_list.extend(train_corpus)\n",
    "\n",
    "        test_corpus=list(read_corpus(x, tokens_only=True))\n",
    "        test_list.extend(test_corpus)\n",
    "    else:\n",
    "        for num in range(30):\n",
    "            train_corpus=list(read_corpus(x, both=True))\n",
    "            train_list.extend(train_corpus)\n",
    "\n",
    "        test_corpus=list(read_corpus(x, tokens_only=True))\n",
    "        test_list.extend(test_corpus)\n",
    "    "
   ]
  },
  {
   "cell_type": "code",
   "execution_count": 124,
   "metadata": {},
   "outputs": [],
   "source": [
    "# train_actual"
   ]
  },
  {
   "cell_type": "code",
   "execution_count": 152,
   "metadata": {},
   "outputs": [],
   "source": [
    "#Doc2Vec Object\n",
    "model = gensim.models.doc2vec.Doc2Vec(vector_size=50, min_count=2, epochs=40, dm =1)"
   ]
  },
  {
   "cell_type": "code",
   "execution_count": 153,
   "metadata": {},
   "outputs": [],
   "source": [
    "#build vocab\n",
    "model.build_vocab(train_list)"
   ]
  },
  {
   "cell_type": "code",
   "execution_count": 154,
   "metadata": {},
   "outputs": [],
   "source": [
    "#train model\n",
    "model.train(train_list, total_examples=model.corpus_count, epochs=model.epochs)"
   ]
  },
  {
   "cell_type": "code",
   "execution_count": 180,
   "metadata": {},
   "outputs": [],
   "source": [
    "# Pick a random document from the test corpus and infer a vector from the model\n",
    "doc_id = random.randint(0, len(test_list) - 1)\n",
    "# doc_id=502\n",
    "inferred_vector = model.infer_vector(test_list[doc_id])\n",
    "sims = model.docvecs.most_similar([inferred_vector], topn=len(model.docvecs))"
   ]
  },
  {
   "cell_type": "code",
   "execution_count": 172,
   "metadata": {},
   "outputs": [
    {
     "name": "stdout",
     "output_type": "stream",
     "text": [
      "4\n"
     ]
    }
   ],
   "source": [
    "print(test_actual[doc_id])"
   ]
  },
  {
   "cell_type": "code",
   "execution_count": 157,
   "metadata": {},
   "outputs": [
    {
     "data": {
      "text/plain": [
       "[(17, 0.9048422574996948),\n",
       " (16, 0.6791102290153503),\n",
       " (15, 0.6789793968200684),\n",
       " (11, 0.633898138999939),\n",
       " (12, 0.6321077346801758),\n",
       " (7, 0.6173979043960571),\n",
       " (3, 0.6135717630386353),\n",
       " (4, 0.5958582162857056),\n",
       " (8, 0.5827701687812805),\n",
       " (13, 0.5806625485420227),\n",
       " (10, 0.5412666201591492),\n",
       " (5, 0.539499044418335),\n",
       " (14, 0.5369576215744019),\n",
       " (9, 0.5291302800178528),\n",
       " (1, 0.5216469764709473),\n",
       " (0, 0.474743127822876),\n",
       " (2, 0.4739220440387726),\n",
       " (6, 0.4662554860115051)]"
      ]
     },
     "execution_count": 157,
     "metadata": {},
     "output_type": "execute_result"
    }
   ],
   "source": [
    "sims"
   ]
  },
  {
   "cell_type": "code",
   "execution_count": 68,
   "metadata": {},
   "outputs": [
    {
     "data": {
      "text/plain": [
       "0"
      ]
     },
     "execution_count": 68,
     "metadata": {},
     "output_type": "execute_result"
    }
   ],
   "source": [
    "index=10\n",
    "train_actual[sims[index][0]]"
   ]
  },
  {
   "cell_type": "code",
   "execution_count": 65,
   "metadata": {},
   "outputs": [
    {
     "data": {
      "text/plain": [
       "1102"
      ]
     },
     "execution_count": 65,
     "metadata": {},
     "output_type": "execute_result"
    }
   ],
   "source": [
    "len(train_list)"
   ]
  },
  {
   "cell_type": "code",
   "execution_count": null,
   "metadata": {},
   "outputs": [],
   "source": [
    "# Compare and print the most/median/least similar documents from the train corpus\n",
    "print('Test Document ({}){}: «{}»\\n'.format(doc_id,country_name[train_actual[doc_id]], ' '.join(test_list[doc_id])))\n",
    "print(u'SIMILAR/DISSIMILAR DOCS PER MODEL %s:\\n' % model)\n",
    "for label, index in [('MOST', 0), ('MEDIAN', len(sims)//2), ('LEAST', len(sims) - 1)]:\n",
    "    print(u'%s %s %s' % (label, sims[index],country_name[train_actual[sims[index][0]]]))"
   ]
  },
  {
   "cell_type": "markdown",
   "metadata": {},
   "source": [
    "## F1 score testing"
   ]
  },
  {
   "cell_type": "code",
   "execution_count": 162,
   "metadata": {},
   "outputs": [
    {
     "data": {
      "text/plain": [
       "509"
      ]
     },
     "execution_count": 162,
     "metadata": {},
     "output_type": "execute_result"
    }
   ],
   "source": [
    "len(test_list)"
   ]
  },
  {
   "cell_type": "code",
   "execution_count": 163,
   "metadata": {},
   "outputs": [
    {
     "data": {
      "text/plain": [
       "509"
      ]
     },
     "execution_count": 163,
     "metadata": {},
     "output_type": "execute_result"
    }
   ],
   "source": [
    "len(test_actual)"
   ]
  },
  {
   "cell_type": "code",
   "execution_count": 165,
   "metadata": {},
   "outputs": [
    {
     "name": "stdout",
     "output_type": "stream",
     "text": [
      "[0, 0, 0, 0, 0, 0, 0, 0, 0, 0, 0, 0, 0, 0, 0, 0, 0, 0, 0, 0, 0, 0, 0, 0, 0, 0, 0, 0, 0, 0, 0, 0, 0, 0, 0, 0, 0, 0, 0, 1, 1, 1, 1, 1, 1, 1, 1, 1, 1, 1, 2, 2, 2, 2, 2, 2, 2, 2, 2, 2, 2, 2, 2, 2, 2, 2, 2, 2, 2, 2, 2, 2, 2, 2, 2, 2, 2, 2, 2, 2, 2, 2, 2, 2, 2, 2, 2, 2, 2, 3, 3, 3, 3, 3, 3, 3, 3, 3, 3, 3]\n"
     ]
    }
   ],
   "source": [
    "print(test_actual[0:100])"
   ]
  },
  {
   "cell_type": "code",
   "execution_count": 164,
   "metadata": {},
   "outputs": [],
   "source": [
    "#list of actual test classification\n",
    "y_test=test_actual"
   ]
  },
  {
   "cell_type": "code",
   "execution_count": 166,
   "metadata": {},
   "outputs": [],
   "source": [
    "#list of predictions from test \n",
    "y_pred=[]\n",
    "#obtain predictions\n",
    "\n",
    "for num in range(len(test_list)):\n",
    "    doc_id=num\n",
    "#     print(num)\n",
    "    inferred_vector = model.infer_vector(test_list[doc_id])\n",
    "    sims = model.docvecs.most_similar([inferred_vector], topn=len(model.docvecs))\n",
    "#     y_pred.extend()\n",
    "#     print(sims)\n",
    "\n",
    "    for label, index in [sims[0]]:\n",
    "#         print(label)\n",
    "#         print(index)\n",
    "#         print(train_actual[label])\n",
    "#         print(label)\n",
    "        actual=test_actual[label]\n",
    "        y_pred.append(actual)"
   ]
  },
  {
   "cell_type": "code",
   "execution_count": 167,
   "metadata": {},
   "outputs": [
    {
     "name": "stdout",
     "output_type": "stream",
     "text": [
      "[0, 0, 0, 0, 0, 0, 0, 0, 0, 0, 0, 0, 0, 0, 0, 0, 0, 0, 0, 0, 0, 0, 0, 0, 0, 0, 0, 0, 0, 0, 0, 0, 0, 0, 0, 0, 0, 0, 0, 0, 0, 0, 0, 0, 0, 0, 0, 0, 0, 0, 0, 0, 0, 0, 0, 0, 0, 0, 0, 0, 0, 0, 0, 0, 0, 0, 0, 0, 0, 0, 0, 0, 0, 0, 0, 0, 0, 0, 0, 0, 0, 0, 0, 0, 0, 0, 0, 0, 0, 0, 0, 0, 0, 0, 0, 0, 0, 0, 0, 0]\n"
     ]
    }
   ],
   "source": [
    "print(y_pred[0:100])"
   ]
  },
  {
   "cell_type": "code",
   "execution_count": 168,
   "metadata": {},
   "outputs": [
    {
     "name": "stdout",
     "output_type": "stream",
     "text": [
      "[0, 0, 0, 0, 0, 0, 0, 0, 0, 0, 0, 0, 0, 0, 0, 0, 0, 0, 0, 0, 0, 0, 0, 0, 0, 0, 0, 0, 0, 0, 0, 0, 0, 0, 0, 0, 0, 0, 0, 1, 1, 1, 1, 1, 1, 1, 1, 1, 1, 1, 2, 2, 2, 2, 2, 2, 2, 2, 2, 2, 2, 2, 2, 2, 2, 2, 2, 2, 2, 2, 2, 2, 2, 2, 2, 2, 2, 2, 2, 2, 2, 2, 2, 2, 2, 2, 2, 2, 2, 3, 3, 3, 3, 3, 3, 3, 3, 3, 3, 3]\n"
     ]
    }
   ],
   "source": [
    "print(y_test[0:100])"
   ]
  },
  {
   "cell_type": "code",
   "execution_count": 169,
   "metadata": {},
   "outputs": [
    {
     "name": "stdout",
     "output_type": "stream",
     "text": [
      "509\n"
     ]
    }
   ],
   "source": [
    "print(len(y_pred))"
   ]
  },
  {
   "cell_type": "code",
   "execution_count": 25,
   "metadata": {},
   "outputs": [],
   "source": [
    "#calc the F1 score\n",
    "from sklearn.metrics import accuracy_score, f1_score"
   ]
  },
  {
   "cell_type": "code",
   "execution_count": 170,
   "metadata": {},
   "outputs": [
    {
     "name": "stdout",
     "output_type": "stream",
     "text": [
      "Testing accuracy 0.07662082514734773\n"
     ]
    },
    {
     "name": "stderr",
     "output_type": "stream",
     "text": [
      "C:\\Users\\jaina\\Anaconda3\\lib\\site-packages\\sklearn\\metrics\\classification.py:1143: UndefinedMetricWarning: F-score is ill-defined and being set to 0.0 in labels with no predicted samples.\n",
      "  'precision', 'predicted', average, warn_for)\n"
     ]
    },
    {
     "name": "stdout",
     "output_type": "stream",
     "text": [
      "Testing F1 score: 0.010905883871337816\n"
     ]
    }
   ],
   "source": [
    "print('Testing accuracy %s' % accuracy_score(y_test, y_pred))\n",
    "print('Testing F1 score: {}'.format(f1_score(y_test, y_pred, average='weighted')))"
   ]
  }
 ],
 "metadata": {
  "kernelspec": {
   "display_name": "Python 3",
   "language": "python",
   "name": "python3"
  },
  "language_info": {
   "codemirror_mode": {
    "name": "ipython",
    "version": 3
   },
   "file_extension": ".py",
   "mimetype": "text/x-python",
   "name": "python",
   "nbconvert_exporter": "python",
   "pygments_lexer": "ipython3",
   "version": "3.7.1"
  }
 },
 "nbformat": 4,
 "nbformat_minor": 2
}
